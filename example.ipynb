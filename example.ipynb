{
 "cells": [
  {
   "cell_type": "code",
   "execution_count": 1,
   "metadata": {},
   "outputs": [],
   "source": [
    "import stf"
   ]
  },
  {
   "cell_type": "code",
   "execution_count": 2,
   "metadata": {},
   "outputs": [],
   "source": [
    "from pathlib import Path\n",
    "\n",
    "verbose= False\n",
    "\n",
    "config_path = './release_211223/front_config.json'\n",
    "reference_face = './release_211223/hunet.png'\n",
    "\n",
    "template_video_path = './release_211223/demo_src/Est Soft 2_1.0-80.mov' # 보라색 자켓, 고개 끄덕 템플릿 (고개 간혹 끄덕임 주문했으나 거의 정자세)\n",
    "work_root_path = './stf_api_temp_root'\n",
    "device = 'cuda:1'\n",
    "checkpoint_path = f'./release_211223/0119_180.pth'\n",
    "\n"
   ]
  },
  {
   "cell_type": "code",
   "execution_count": 3,
   "metadata": {},
   "outputs": [
    {
     "name": "stdout",
     "output_type": "stream",
     "text": [
      "load MTCNN  success ^ ^\n",
      "load g_recognizer  success ^ ^\n",
      "save_face_info2 - df_face_info:  stf_api_temp_root/preprocess/hunet_v1_front/df_face_info/Est Soft 2_1.0-80.pickle\n"
     ]
    },
    {
     "data": {
      "application/vnd.jupyter.widget-view+json": {
       "model_id": "7e053cc1d589440d8a4130304aa46b05",
       "version_major": 2,
       "version_minor": 0
      },
      "text/plain": [
       "extract frame stride(30) Est Soft 2_1.0-80.mov:   0%|          | 0/80 [00:00<?, ?it/s]"
      ]
     },
     "metadata": {},
     "output_type": "display_data"
    },
    {
     "data": {
      "application/vnd.jupyter.widget-view+json": {
       "model_id": "a3ad205ebead40b18b377a9807c581a1",
       "version_major": 2,
       "version_minor": 0
      },
      "text/plain": [
       "find_faces for calc_ebd:   0%|          | 0/80 [00:00<?, ?it/s]"
      ]
     },
     "metadata": {},
     "output_type": "display_data"
    },
    {
     "name": "stdout",
     "output_type": "stream",
     "text": [
      "df_anchor_i: stf_api_temp_root/preprocess/hunet_v1_front/df_anchor_i/Est Soft 2_1.0-80_000.pickle\n",
      "mean_box: [1638, 205, 2085, 748]   width: 448  height: 544\n"
     ]
    },
    {
     "data": {
      "application/vnd.jupyter.widget-view+json": {
       "model_id": "1fc8c26331fa40548faaf89018deb04d",
       "version_major": 2,
       "version_minor": 0
      },
      "text/plain": [
       "extract frame stride(1) Est Soft 2_1.0-80.mov:   0%|          | 0/2400 [00:00<?, ?it/s]"
      ]
     },
     "metadata": {},
     "output_type": "display_data"
    },
    {
     "data": {
      "application/vnd.jupyter.widget-view+json": {
       "model_id": "924a1649051d4dca89cace500d3e6721",
       "version_major": 2,
       "version_minor": 0
      },
      "text/plain": [
       "■ fan :   0%|          | 0/2400 [00:00<?, ?it/s]"
      ]
     },
     "metadata": {},
     "output_type": "display_data"
    },
    {
     "name": "stdout",
     "output_type": "stream",
     "text": [
      "CPU times: user 11min 25s, sys: 1min 40s, total: 13min 6s\n",
      "Wall time: 4min 56s\n"
     ]
    }
   ],
   "source": [
    "%%time \n",
    "def process_callback(per: int) -> None:\n",
    "    print(per)\n",
    "    \n",
    "# template video 전처리\n",
    "stf.preprocess_template(config_path, template_video_path,\n",
    "                        reference_face=reference_face,\n",
    "                        work_root_path=work_root_path,\n",
    "                        call_back=process_callback,\n",
    "                        device=device,\n",
    "                        verbose=verbose)"
   ]
  },
  {
   "cell_type": "code",
   "execution_count": 4,
   "metadata": {},
   "outputs": [
    {
     "name": "stdout",
     "output_type": "stream",
     "text": [
      "CPU times: user 4.76 s, sys: 1.15 s, total: 5.92 s\n",
      "Wall time: 3.49 s\n"
     ]
    }
   ],
   "source": [
    "%%time \n",
    "model = stf.create_model(config_path, checkpoint_path, work_root_path, device=device, verbose=verbose)"
   ]
  },
  {
   "cell_type": "code",
   "execution_count": 5,
   "metadata": {},
   "outputs": [
    {
     "name": "stdout",
     "output_type": "stream",
     "text": [
      "CPU times: user 18.4 s, sys: 53.5 s, total: 1min 11s\n",
      "Wall time: 1min 40s\n"
     ]
    }
   ],
   "source": [
    "%%time \n",
    "template = stf.template_video(model, template_video_path, callback=None, verbose=verbose)"
   ]
  },
  {
   "cell_type": "code",
   "execution_count": 6,
   "metadata": {},
   "outputs": [
    {
     "name": "stdout",
     "output_type": "stream",
     "text": [
      "######################  0  ##############################\n",
      "mel_step_size:108, mel_ps:80\n",
      "CPU times: user 1min 16s, sys: 3min 21s, total: 4min 37s\n",
      "Wall time: 3min 30s\n"
     ]
    }
   ],
   "source": [
    "%%time \n",
    "from pathlib import Path\n",
    "\n",
    "for i in range(1):\n",
    "    print('###################### ', i, ' ##############################')\n",
    "    wav_path = 'release_211223/demo_src/hunet_only_voice_test_50000.wav'\n",
    "    wav_std=True\n",
    "    wav_std_ref_wav=None\n",
    "    name_prefix=''\n",
    "    slow_write = True # False\n",
    "    video_start_offset_frame = 0 # 0이상 숫자: video 해당 frame부터 합성 / None: 맨 마지막에 맞춰서 합성\n",
    "    \n",
    "    out_path = 'temp_result/' + f'{name_prefix}_{Path(template_video_path).stem}_{Path(wav_path).stem}_mask-{template.model.args.mask_ver}_{i}.mp4'\n",
    "    template.gen(wav_path, wav_std, wav_std_ref_wav,\n",
    "                 video_start_offset_frame, out_path=out_path,\n",
    "                 slow_write=slow_write)"
   ]
  },
  {
   "cell_type": "code",
   "execution_count": 7,
   "metadata": {},
   "outputs": [
    {
     "data": {
      "text/html": [
       "<video src=\"temp_result/_Est Soft 2_1.0-80_hunet_only_voice_test_50000_mask-pwb_front_v39_1_0.mp4\" controls  width=\"1280\" >\n",
       "      Your browser does not support the <code>video</code> element.\n",
       "    </video>"
      ],
      "text/plain": [
       "<IPython.core.display.Video object>"
      ]
     },
     "execution_count": 7,
     "metadata": {},
     "output_type": "execute_result"
    }
   ],
   "source": [
    "import IPython.display as ipd\n",
    "ipd.Video(out_path, width=1280)"
   ]
  },
  {
   "cell_type": "code",
   "execution_count": null,
   "metadata": {},
   "outputs": [],
   "source": []
  },
  {
   "cell_type": "code",
   "execution_count": 8,
   "metadata": {},
   "outputs": [
    {
     "name": "stdout",
     "output_type": "stream",
     "text": [
      "del template\n",
      "del model\n"
     ]
    }
   ],
   "source": [
    "\n",
    "try:\n",
    "    print('del template')\n",
    "    del template\n",
    "except:\n",
    "    print('del template exception')\n",
    "    pass\n",
    "\n",
    "try:\n",
    "    print('del model')\n",
    "    del model\n",
    "except:\n",
    "    print('del model exception')\n",
    "    pass\n",
    "\n"
   ]
  },
  {
   "cell_type": "code",
   "execution_count": null,
   "metadata": {},
   "outputs": [],
   "source": []
  }
 ],
 "metadata": {
  "kernelspec": {
   "display_name": "Python [conda env:lipgan2]",
   "language": "python",
   "name": "conda-env-lipgan2-py"
  },
  "language_info": {
   "codemirror_mode": {
    "name": "ipython",
    "version": 3
   },
   "file_extension": ".py",
   "mimetype": "text/x-python",
   "name": "python",
   "nbconvert_exporter": "python",
   "pygments_lexer": "ipython3",
   "version": "3.7.9"
  }
 },
 "nbformat": 4,
 "nbformat_minor": 4
}
