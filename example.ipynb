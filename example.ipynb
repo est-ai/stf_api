{
 "cells": [
  {
   "cell_type": "markdown",
   "metadata": {},
   "source": [
    "# stf 비디오 생성 예제"
   ]
  },
  {
   "cell_type": "code",
   "execution_count": null,
   "metadata": {},
   "outputs": [],
   "source": [
    "import stf"
   ]
  },
  {
   "cell_type": "markdown",
   "metadata": {},
   "source": [
    "# 설정"
   ]
  },
  {
   "cell_type": "code",
   "execution_count": null,
   "metadata": {},
   "outputs": [],
   "source": [
    "from pathlib import Path\n",
    "\n",
    "verbose= False\n",
    "slow_write = True # False\n",
    "\n",
    "wav_std=True \n",
    "wav_std_ref_wav='./220105/release_220105/ref_audio.wav'\n",
    "config_path = './220105/release_220105/front_config.json'\n",
    "reference_face = './220105/release_220105/hunet.png'\n",
    "front_checkpoint_path = f'./220105/release_220105/front_1213_1140_105.pth'\n",
    "side_checkpoint_path = f'./220105/release_220105/side_1214_1245_039.pth'\n",
    "video_start_offset_frame = 0 # 0이상 숫자: video 해당 frame부터 합성 / None: 맨 마지막에 맞춰서 합성\n",
    "\n",
    "work_root_path = './stf_api_temp_root'\n",
    "device = 'cuda:1'\n",
    "\n",
    "# 템플릿 비디오 경로\n",
    "front_template_video_path = './220105/demo_src/Est Soft 2_1.0-80.mov' # 보라색 자켓, 고개 끄덕 템플릿 (고개 간혹 끄덕임 주문했으나 거의 정자세)\n",
    "side_template_video_path = './220105/demo_src/Est Soft 2_2.0-80.mov' # 보라색 자켓, 고개 끄덕 템플릿 (고개 간혹 끄덕임 주문했으나 거의 정자세)\n",
    "\n",
    "# wav 경로\n",
    "wav_path = '220105/demo_src/hunet_only_voice_test_50000.wav'\n"
   ]
  },
  {
   "cell_type": "code",
   "execution_count": null,
   "metadata": {},
   "outputs": [],
   "source": [
    "import os\n",
    "assert(os.path.exists(config_path))\n",
    "assert(os.path.exists(reference_face))\n",
    "assert(os.path.exists(front_template_video_path))\n",
    "assert(os.path.exists(front_checkpoint_path))\n",
    "assert(os.path.exists(side_template_video_path))\n",
    "assert(os.path.exists(side_checkpoint_path))"
   ]
  },
  {
   "cell_type": "markdown",
   "metadata": {},
   "source": [
    "# 1. 템플릿 비디오 전처리"
   ]
  },
  {
   "cell_type": "code",
   "execution_count": null,
   "metadata": {},
   "outputs": [],
   "source": [
    "%%time \n",
    "def preprocess_callback(per: int) -> None:\n",
    "    print('preprocess callback :', per)\n",
    "    \n",
    "# template video 전처리 : 처음 실행되었을 때만 실제로 전처리가 발생하고, 이 후 여러번 실행시키면 전처리 되어있는지 확인과정만 일어난다.\n",
    "stf.preprocess_template(config_path, front_template_video_path,\n",
    "                        reference_face=reference_face,\n",
    "                        work_root_path=work_root_path,\n",
    "                        callback=preprocess_callback,\n",
    "                        device=device,\n",
    "                        verbose=verbose)\n",
    "#stf.preprocess_template(config_path, side_template_video_path,\n",
    "#                        reference_face=reference_face,\n",
    "#                        work_root_path=work_root_path,\n",
    "#                        callback=preprocess_callback,\n",
    "#                        device=device,\n",
    "#                        verbose=verbose)"
   ]
  },
  {
   "cell_type": "markdown",
   "metadata": {},
   "source": [
    "# 2. 팁러닝 모델 로드"
   ]
  },
  {
   "cell_type": "code",
   "execution_count": null,
   "metadata": {},
   "outputs": [],
   "source": [
    "%%time \n",
    "front_model = stf.create_model(config_path, front_checkpoint_path, work_root_path, device=device, verbose=verbose)"
   ]
  },
  {
   "cell_type": "markdown",
   "metadata": {},
   "source": [
    "# 3. 템플릿 비디오 읽기"
   ]
  },
  {
   "cell_type": "code",
   "execution_count": null,
   "metadata": {},
   "outputs": [],
   "source": [
    "%%time \n",
    "front_template = stf.template_video(front_model, front_template_video_path, callback=None, verbose=verbose)"
   ]
  },
  {
   "cell_type": "markdown",
   "metadata": {},
   "source": [
    "# 4. 비디오 생성"
   ]
  },
  {
   "cell_type": "code",
   "execution_count": null,
   "metadata": {},
   "outputs": [],
   "source": [
    "%%time \n",
    "from pathlib import Path\n",
    "%pdb on\n",
    "def gen_callback(per: int) -> None:\n",
    "    print(per)\n",
    "name_prefix=''\n",
    "out_path = 'temp_result/' + f'{name_prefix}_#video#-{Path(front_template_video_path).stem}_#wav#-{Path(wav_path).stem}_#weight#-{Path(front_checkpoint_path).stem}.mp4'\n",
    "front_template.gen(wav_path, wav_std, wav_std_ref_wav,\n",
    "                   video_start_offset_frame=video_start_offset_frame,\n",
    "                   out_path=out_path,\n",
    "                   slow_write=slow_write,\n",
    "                   callback=gen_callback,)"
   ]
  },
  {
   "cell_type": "markdown",
   "metadata": {},
   "source": [
    "# 5. 생성된 비디오 보기"
   ]
  },
  {
   "cell_type": "code",
   "execution_count": null,
   "metadata": {},
   "outputs": [],
   "source": [
    "import IPython.display as ipd\n",
    "ipd.Video(out_path, width=1280)"
   ]
  },
  {
   "cell_type": "code",
   "execution_count": null,
   "metadata": {},
   "outputs": [],
   "source": []
  },
  {
   "cell_type": "code",
   "execution_count": null,
   "metadata": {},
   "outputs": [],
   "source": [
    "# 템플릿 비디오 삭제\n",
    "print('del template')\n",
    "del front_template\n",
    "\n",
    "# 모델 삭제\n",
    "print('del model')\n",
    "del front_model\n"
   ]
  },
  {
   "cell_type": "code",
   "execution_count": null,
   "metadata": {},
   "outputs": [],
   "source": []
  }
 ],
 "metadata": {
  "kernelspec": {
   "display_name": "Python [conda env:stf]",
   "language": "python",
   "name": "conda-env-stf-py"
  },
  "language_info": {
   "codemirror_mode": {
    "name": "ipython",
    "version": 3
   },
   "file_extension": ".py",
   "mimetype": "text/x-python",
   "name": "python",
   "nbconvert_exporter": "python",
   "pygments_lexer": "ipython3",
   "version": "3.7.9"
  }
 },
 "nbformat": 4,
 "nbformat_minor": 4
}
