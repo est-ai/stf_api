{
 "cells": [
  {
   "cell_type": "code",
   "execution_count": 1,
   "metadata": {},
   "outputs": [],
   "source": [
    "import stf"
   ]
  },
  {
   "cell_type": "code",
   "execution_count": 2,
   "metadata": {},
   "outputs": [],
   "source": [
    "from pathlib import Path\n",
    "\n",
    "verbose= False\n",
    "\n",
    "config_path = './211230/front_config.json'\n",
    "reference_face = './211230/hunet.png'\n",
    "\n",
    "work_root_path = './stf_api_temp_root'\n",
    "device = 'cuda:1'\n",
    "front_template_video_path = './211230/demo_src/Est Soft 2_1.0-80.mov' # 보라색 자켓, 고개 끄덕 템플릿 (고개 간혹 끄덕임 주문했으나 거의 정자세)\n",
    "front_checkpoint_path = f'./211230/front_1213_1140_105.pth'\n",
    "side_template_video_path = './211230/demo_src/Est Soft 2_2.0-80.mov' # 보라색 자켓, 고개 끄덕 템플릿 (고개 간혹 끄덕임 주문했으나 거의 정자세)\n",
    "side_checkpoint_path = f'./211230/side_1214_1245_039.pth.filepart'\n"
   ]
  },
  {
   "cell_type": "code",
   "execution_count": 3,
   "metadata": {},
   "outputs": [],
   "source": [
    "import os\n",
    "assert(os.path.exists(config_path))\n",
    "assert(os.path.exists(reference_face))\n",
    "assert(os.path.exists(front_template_video_path))\n",
    "assert(os.path.exists(front_checkpoint_path))\n",
    "assert(os.path.exists(side_template_video_path))\n",
    "assert(os.path.exists(side_checkpoint_path))"
   ]
  },
  {
   "cell_type": "code",
   "execution_count": 4,
   "metadata": {},
   "outputs": [
    {
     "name": "stdout",
     "output_type": "stream",
     "text": [
      "load MTCNN  success ^ ^\n",
      "load g_recognizer  success ^ ^\n",
      "CPU times: user 3.64 s, sys: 1.46 s, total: 5.1 s\n",
      "Wall time: 6.68 s\n"
     ]
    }
   ],
   "source": [
    "%%time \n",
    "def process_callback(per: int) -> None:\n",
    "    print(per)\n",
    "    \n",
    "# template video 전처리 : 처음 실행되었을 때만 실제로 전처리가 발생하고, 이 후 여러번 실행시키면 전처리 되어있는지 확인과정만 일어난다.\n",
    "stf.preprocess_template(config_path, front_template_video_path,\n",
    "                        reference_face=reference_face,\n",
    "                        work_root_path=work_root_path,\n",
    "                        call_back=process_callback,\n",
    "                        device=device,\n",
    "                        verbose=verbose)\n",
    "stf.preprocess_template(config_path, side_template_video_path,\n",
    "                        reference_face=reference_face,\n",
    "                        work_root_path=work_root_path,\n",
    "                        call_back=process_callback,\n",
    "                        device=device,\n",
    "                        verbose=verbose)"
   ]
  },
  {
   "cell_type": "code",
   "execution_count": 5,
   "metadata": {},
   "outputs": [
    {
     "name": "stdout",
     "output_type": "stream",
     "text": [
      "CPU times: user 1.68 s, sys: 1.39 s, total: 3.07 s\n",
      "Wall time: 4.26 s\n"
     ]
    }
   ],
   "source": [
    "%%time \n",
    "front_model = stf.create_model(config_path, front_checkpoint_path, work_root_path, device=device, verbose=verbose)"
   ]
  },
  {
   "cell_type": "code",
   "execution_count": 6,
   "metadata": {},
   "outputs": [
    {
     "name": "stdout",
     "output_type": "stream",
     "text": [
      "CPU times: user 9.01 s, sys: 31.7 s, total: 40.7 s\n",
      "Wall time: 1min 30s\n"
     ]
    }
   ],
   "source": [
    "%%time \n",
    "front_template = stf.template_video(front_model, front_template_video_path, callback=None, verbose=verbose)"
   ]
  },
  {
   "cell_type": "code",
   "execution_count": 7,
   "metadata": {},
   "outputs": [
    {
     "name": "stdout",
     "output_type": "stream",
     "text": [
      "######################  0  ##############################\n",
      "mel_step_size:108, mel_ps:80\n",
      "CPU times: user 1min 18s, sys: 1min 15s, total: 2min 34s\n",
      "Wall time: 8min 12s\n"
     ]
    }
   ],
   "source": [
    "%%time \n",
    "from pathlib import Path\n",
    "\n",
    "for i in range(1):\n",
    "    print('###################### ', i, ' ##############################')\n",
    "    wav_path = '211230/hunet_only_voice_test_50000.wav'\n",
    "    wav_std=True\n",
    "    wav_std_ref_wav=None\n",
    "    name_prefix=''\n",
    "    slow_write = True # False\n",
    "    video_start_offset_frame = 0 # 0이상 숫자: video 해당 frame부터 합성 / None: 맨 마지막에 맞춰서 합성\n",
    "    \n",
    "    out_path = 'temp_result/' + f'{name_prefix}_{Path(front_template_video_path).stem}_{Path(wav_path).stem}_mask-{front_template.model.args.mask_ver}_{i}.mp4'\n",
    "    front_template.gen(wav_path, wav_std, wav_std_ref_wav,\n",
    "                       video_start_offset_frame, out_path=out_path,\n",
    "                       slow_write=slow_write)"
   ]
  },
  {
   "cell_type": "code",
   "execution_count": 8,
   "metadata": {},
   "outputs": [
    {
     "data": {
      "text/html": [
       "<video src=\"temp_result/_Est Soft 2_1.0-80_hunet_only_voice_test_50000_mask-pwb_front_v39_1_0.mp4\" controls  width=\"1280\" >\n",
       "      Your browser does not support the <code>video</code> element.\n",
       "    </video>"
      ],
      "text/plain": [
       "<IPython.core.display.Video object>"
      ]
     },
     "execution_count": 8,
     "metadata": {},
     "output_type": "execute_result"
    }
   ],
   "source": [
    "import IPython.display as ipd\n",
    "ipd.Video(out_path, width=1280)"
   ]
  },
  {
   "cell_type": "code",
   "execution_count": null,
   "metadata": {},
   "outputs": [],
   "source": []
  },
  {
   "cell_type": "code",
   "execution_count": 9,
   "metadata": {},
   "outputs": [
    {
     "name": "stdout",
     "output_type": "stream",
     "text": [
      "del template\n",
      "del template exception\n",
      "del model\n",
      "del model exception\n"
     ]
    }
   ],
   "source": [
    "# 템플릿 비디오 삭제\n",
    "print('del template')\n",
    "del front_template\n",
    "\n",
    "# 모델 삭제\n",
    "print('del model')\n",
    "del front_model\n"
   ]
  },
  {
   "cell_type": "code",
   "execution_count": null,
   "metadata": {},
   "outputs": [],
   "source": []
  }
 ],
 "metadata": {
  "kernelspec": {
   "display_name": "Python [conda env:stf]",
   "language": "python",
   "name": "conda-env-stf-py"
  },
  "language_info": {
   "codemirror_mode": {
    "name": "ipython",
    "version": 3
   },
   "file_extension": ".py",
   "mimetype": "text/x-python",
   "name": "python",
   "nbconvert_exporter": "python",
   "pygments_lexer": "ipython3",
   "version": "3.7.9"
  }
 },
 "nbformat": 4,
 "nbformat_minor": 4
}
