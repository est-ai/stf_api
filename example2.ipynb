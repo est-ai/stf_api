{
 "cells": [
  {
   "cell_type": "markdown",
   "metadata": {},
   "source": [
    "# stf 비디오 생성 예제"
   ]
  },
  {
   "cell_type": "code",
   "execution_count": null,
   "metadata": {},
   "outputs": [],
   "source": [
    "import os"
   ]
  },
  {
   "cell_type": "code",
   "execution_count": null,
   "metadata": {},
   "outputs": [],
   "source": [
    "#!rm -rf stf_api_temp_root/"
   ]
  },
  {
   "cell_type": "markdown",
   "metadata": {},
   "source": [
    "# 설정"
   ]
  },
  {
   "cell_type": "code",
   "execution_count": null,
   "metadata": {},
   "outputs": [],
   "source": [
    "from pathlib import Path\n",
    "\n",
    "verbose= True\n",
    "slow_write = True # False\n",
    "\n",
    "wav_std=True \n",
    "wav_std_ref_wav='./release_220105/ref_audio.wav'\n",
    "config_path = './release_220105/front_config.json'\n",
    "reference_face = './release_220105/pwb.jpg'\n",
    "front_checkpoint_path = f'./release_220105/front_1213_1140_105.pth'\n",
    "side_checkpoint_path = f'./release_220105/side_1214_1245_039.pth'\n",
    "video_start_offset_frame = 0 # 0이상 숫자: video 해당 frame부터 합성 / None: 맨 마지막에 맞춰서 합성\n",
    "\n",
    "work_root_path = './stf_api_temp_root'\n",
    "#device = 'cuda:4'\n",
    "device = 'cuda'\n",
    "\n",
    "# 템플릿 비디오 경로\n",
    "front_template_video_path = './demo_src/06 #2  monday_01_자연스러움_FHD.mp4' \n",
    "side_template_video_path = './demo_src/06 #2  monday_01_자연스러움_FHD.mp4' \n",
    "\n",
    "# wav 경로\n",
    "wav_path = 'demo_src/test_한국투자.wav'\n"
   ]
  },
  {
   "cell_type": "markdown",
   "metadata": {},
   "source": [
    "# weight 를 고릅니다."
   ]
  },
  {
   "cell_type": "code",
   "execution_count": null,
   "metadata": {},
   "outputs": [],
   "source": [
    "weight_dir = \"./weights/Adam_Default_pwb_front_v39_1_bs-96_lr-0.0001_mel_ps_80_2022-04-18 10:26/\"\n",
    "!ls \"$weight_dir\"\n",
    "\n",
    "epoch = \"108.pth\" \n",
    "\n",
    "\n",
    "\n",
    "front_checkpoint_path = os.path.join(weight_dir, epoch)\n",
    "front_checkpoint_path\n"
   ]
  },
  {
   "cell_type": "markdown",
   "metadata": {},
   "source": [
    "# 설정한 값들이 존재하는지 확인합니다."
   ]
  },
  {
   "cell_type": "code",
   "execution_count": null,
   "metadata": {},
   "outputs": [],
   "source": [
    "import os\n",
    "assert(os.path.exists(config_path))\n",
    "assert(os.path.exists(reference_face))\n",
    "assert(os.path.exists(front_template_video_path))\n",
    "assert(os.path.exists(front_checkpoint_path))\n",
    "assert(os.path.exists(wav_path))\n",
    "#assert(os.path.exists(side_template_video_path))\n",
    "#assert(os.path.exists(side_checkpoint_path))"
   ]
  },
  {
   "cell_type": "markdown",
   "metadata": {},
   "source": [
    "# 비디오 생성"
   ]
  },
  {
   "cell_type": "code",
   "execution_count": null,
   "metadata": {},
   "outputs": [],
   "source": [
    "name_prefix = 'pwb_yellow'\n",
    "out_path = 'temp_result/' + f'{name_prefix}_#time#-{time_str}_#video#-{Path(front_template_video_path).stem}_#wav#-{Path(wav_path).stem}_#weight#-{Path(front_checkpoint_path).stem}.mp4'\n",
    "    \n",
    "cmd = f'python inference.py --output \"{out_path}\" \\\n",
    " --wav_path \"{wav_path}\" --template_video_path \"{front_template_video_path}\" --config_path \"{config_path}\"\\\n",
    " --checkpoint_path \"{front_checkpoint_path}\" --work_root_path \"{work_root_path}\" --wav_std_ref_wav \"{wav_std_ref_wav}\"\\\n",
    " --reference_face \"{reference_face}\" --device {device} --video_start_offset_frame 0 {\"--verbose\" if verbose else \"\"}'\n",
    "\n",
    "print(cmd)\n",
    "! $cmd"
   ]
  },
  {
   "cell_type": "markdown",
   "metadata": {},
   "source": [
    "# 5. 생성된 비디오 보기"
   ]
  },
  {
   "cell_type": "code",
   "execution_count": null,
   "metadata": {},
   "outputs": [],
   "source": [
    "import IPython.display as ipd\n",
    "ipd.Video(out_path, width=1280)"
   ]
  },
  {
   "cell_type": "code",
   "execution_count": null,
   "metadata": {},
   "outputs": [],
   "source": []
  }
 ],
 "metadata": {
  "kernelspec": {
   "display_name": "Python [conda env:stf]",
   "language": "python",
   "name": "conda-env-stf-py"
  },
  "language_info": {
   "codemirror_mode": {
    "name": "ipython",
    "version": 3
   },
   "file_extension": ".py",
   "mimetype": "text/x-python",
   "name": "python",
   "nbconvert_exporter": "python",
   "pygments_lexer": "ipython3",
   "version": "3.7.9"
  }
 },
 "nbformat": 4,
 "nbformat_minor": 4
}
