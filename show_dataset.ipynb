{
 "cells": [
  {
   "cell_type": "markdown",
   "id": "2e2db7b9-aad2-4990-9285-fd49115a2ee7",
   "metadata": {},
   "source": [
    "# dataset 확인"
   ]
  },
  {
   "cell_type": "code",
   "execution_count": null,
   "id": "529e6bec-8acd-45d4-a4b1-aee121630b08",
   "metadata": {},
   "outputs": [],
   "source": [
    "data_path = '/data/home/gomthing/dataset/kimyiso2/preprocess/*/*.jpg'\n",
    "phase = 'val'\n",
    "mask_ver = 'pwb_front_v39_1'"
   ]
  },
  {
   "cell_type": "code",
   "execution_count": null,
   "id": "410fce19-a984-492b-ba47-1b2ba522cb09",
   "metadata": {},
   "outputs": [],
   "source": [
    "import os\n",
    "import sys\n",
    "from glob import glob\n",
    "from addict import Dict\n",
    "from PIL import Image\n",
    "import numpy as np"
   ]
  },
  {
   "cell_type": "code",
   "execution_count": null,
   "id": "6c4813ed-aa94-425b-98a0-5a757ee0a0c3",
   "metadata": {},
   "outputs": [],
   "source": [
    "from stf.s2f_dir.src.datagen_aug import LipGanDS"
   ]
  },
  {
   "cell_type": "code",
   "execution_count": null,
   "id": "79089640-4d5e-4107-8240-199a85963daf",
   "metadata": {},
   "outputs": [],
   "source": [
    "from glob import glob\n",
    "train_images = glob(data_path)\n",
    "val_images = glob(data_path)\n",
    "len(train_images), len(val_images)\n",
    "#train_images"
   ]
  },
  {
   "cell_type": "code",
   "execution_count": null,
   "id": "e0c39942-1d1d-4492-9242-71fb8830c306",
   "metadata": {},
   "outputs": [],
   "source": [
    "args = Dict(\n",
    "    batch_size = 1,\n",
    "    num_workers = 1,\n",
    "    fps = 30,\n",
    "    mel_step_size = 108, #81,\n",
    "    mel_ps = 80,\n",
    "    img_size = 352,\n",
    "    mask_ver = mask_ver,\n",
    "    num_ips = 2,\n",
    "    mask_img_trsf_ver = 0,\n",
    "    mel_trsf_ver = -1,\n",
    "    mel_norm_ver = -1,\n",
    "    lr = 1, # dummy_lr\n",
    ")\n",
    "args.train_images = train_images\n",
    "args.val_images = val_images\n",
    "ds = LipGanDS(args, phase)\n",
    "ds.smoothing_mask = True\n"
   ]
  },
  {
   "cell_type": "code",
   "execution_count": null,
   "id": "25ea70c5-70ad-4afc-8f20-f3e9812267a3",
   "metadata": {},
   "outputs": [],
   "source": [
    "def numpy_to_img(np_image):\n",
    "    np_image = np_image[:,:,::-1]\n",
    "    np_image = (np_image + 1.0) *255.0 /2.0\n",
    "    np_image = np.clip(0, 255, np_image)\n",
    "    img = Image.fromarray(np_image.astype(np.uint8))\n",
    "    return img\n",
    "\n",
    "\n",
    "idx = np.random.randint(0, len(ds)-1)\n",
    "\n",
    "img_gt, mel, ips = ds[idx]\n",
    "display(numpy_to_img(img_gt))\n",
    "display(numpy_to_img(ips[:,:,:3]))\n",
    "display(numpy_to_img(ips[:,:,3:6]))\n",
    "display(numpy_to_img(ips[:,:,6:9]))\n",
    "\n"
   ]
  },
  {
   "cell_type": "code",
   "execution_count": null,
   "id": "2ad9e67e-240f-4989-bb88-d643b76d4d91",
   "metadata": {},
   "outputs": [],
   "source": [
    "#ds.images"
   ]
  },
  {
   "cell_type": "code",
   "execution_count": null,
   "id": "04f19f60-3589-4d76-a0fb-ed16a912a711",
   "metadata": {},
   "outputs": [],
   "source": []
  }
 ],
 "metadata": {
  "kernelspec": {
   "display_name": "Python [conda env:stf]",
   "language": "python",
   "name": "conda-env-stf-py"
  },
  "language_info": {
   "codemirror_mode": {
    "name": "ipython",
    "version": 3
   },
   "file_extension": ".py",
   "mimetype": "text/x-python",
   "name": "python",
   "nbconvert_exporter": "python",
   "pygments_lexer": "ipython3",
   "version": "3.7.9"
  }
 },
 "nbformat": 4,
 "nbformat_minor": 5
}
